{
 "cells": [
  {
   "cell_type": "markdown",
   "id": "ededf829-f270-44f1-a678-49b22d27128d",
   "metadata": {},
   "source": [
    "Copyright (c) European Space Agency, 2025.\n",
    "\n",
    "<small><em>This file is subject to the terms and conditions defined in file 'LICENCE.txt', which is part of this source code package. No part of the package, including this file, may be copied, modified, propagated, or distributed except according to the terms contained in the file ‘LICENCE.txt’.</em></small>\n",
    "***"
   ]
  },
  {
   "cell_type": "markdown",
   "id": "fb991a6f-a77f-4e1f-8381-711fd2269c93",
   "metadata": {
    "tags": []
   },
   "source": [
    "# <font color=green> Case Study: X-ray Binary Vela X-1  </font>\n",
    "***\n",
    "## Introduction\n",
    "This thread serves as a comprehensive, step-by-step guide illustrating a mini science project leveraging XMM-Newton data. The focal point is the retrieval and processing of data associated with the high-mass X-ray binary Vela X-1, which is composed of a neutron star. Subsequently, the derived spectrum can undergo in depth analysis using pyXspec in accordance with the user's wishes, where if wanted they can apply various models to draw insightful conclusions from the observational data.\n",
    "\n",
    "Moreover, this thread exemplifies the practical utilization of the XMM-SAS Datalab for research purposes. This platform facilitates a streamlined experience, enabling users to promptly obtain data in their preferred format and conduct comprehensive analyses, all within a unified space. Importantly, this eliminates the need for additional package installations or the inconvenience of navigating between disparate platforms.\n",
    "\n",
    "On this thread we demonstrate applications of methods such as SAS start-up, reprocessing the ODF to generate concatenated EPIC event lists, extracting ligthcurves, checking for pile-up, and extracting a spectrum which can be used for scientific analysis.\n",
    "\n",
    "## Background Information\n",
    "\n",
    "Vela X-1 is a prominent X-ray binary system located in the Vela constellation. Discovered in the early 1970s by the Uhuru X-ray satellite, however it has been observed by nearly all X-ray observatories even multiple times. This binary system features a pulsar—a rapidly rotating neutron star—as its compact object. The companion star is a massive B-type supergiant, and the system is characterized by the transfer of mass from the companion to the neutron star. As the material from the donor star accretes onto the neutron star's surface, it emits intense X-ray radiation, making Vela X-1 detectable in X-ray observations, while also providing a rich spectrum with various emission lines. The high rate of rotation of the neutron star, combined with the mass transfer process, results in the system's dynamic and variable behavior. Vela X-1's study has contributed valuable insights into the physics of accretion processes, neutron star characteristics, and the evolution of binary systems involving compact objects.\n",
    "\n",
    "The particular observation we chose is with ObsID of 0841890201. Total exposures are five with 3 EPIC, 0 OM, and 2 RGS. This is a very bright source, hence EPIC-pn exposure is in timing mode, and when processing adjustments such as pile-up correction will be necessary.\n",
    "\n",
    "\n",
    "## Suggested Further Reading\n",
    "* [Revisiting the archetypical wind accretor Vela X-1 in depth](https://doi.org/10.1051/0004-6361/202040272)\n",
    "* [PyXspec](https://heasarc.gsfc.nasa.gov/xanadu/xspec/python/html/index.html)\n",
    "* [Observing the onset of the accretion wake in Vela X-1](https://ui.adsabs.harvard.edu/link_gateway/2023A&A...674A.147D/doi:10.48550/arXiv.2303.09631)\n",
    "* [A NICER viewing angle on the accretion stream of Vela X-1](https://ui.adsabs.harvard.edu/link_gateway/2023ApJ...950..170R/doi:10.48550/arXiv.2302.10953)\n",
    "* [Continuum, cyclotron line, and absorption variability in the high-mass X-ray binary Vela X-1](https://ui.adsabs.harvard.edu/abs/2022A%26A...660A..19D/abstract)\n",
    "\n",
    "## Further Credits\n",
    "Special thanks and recognition to [Camille Diez](https://www.camillediez.com/) for sharing her research method, knowledge, and help.\n",
    "\n",
    "### *SAS version used v21*\n",
    "\n",
    "***"
   ]
  },
  {
   "cell_type": "markdown",
   "id": "0b0ff7d8-55f7-458e-ad25-acc264c5b01b",
   "metadata": {},
   "source": [
    "Import the following libraries listed below:"
   ]
  },
  {
   "cell_type": "code",
   "execution_count": null,
   "id": "cde01120-0b0b-4964-b0d7-0937157dfac4",
   "metadata": {
    "tags": []
   },
   "outputs": [],
   "source": [
    "from pysas.wrapper import Wrapper as w\n",
    "import os.path\n",
    "from os import path\n",
    "import subprocess\n",
    "import numpy as np\n",
    "import matplotlib.pyplot as plt\n",
    "from astropy.io import fits\n",
    "from astropy.table import Table\n",
    "from matplotlib.colors import LogNorm\n",
    "from matplotlib.ticker import ScalarFormatter  \n",
    "from xspec import *\n",
    "import re\n",
    "import plotly.express as px\n",
    "import plotly.graph_objects as go\n",
    "import plotly.io as pio\n",
    "pio.renderers.default = 'notebook'\n",
    "import plotly.offline as pyo\n",
    "pyo.init_notebook_mode(connected=True)\n",
    "from tools.js9helper import *\n",
    "from tools.plotLC import *\n",
    "import shutil\n",
    "from IPython.display import display, Image\n",
    "from tools.xspecplot import *"
   ]
  },
  {
   "cell_type": "markdown",
   "id": "70fc68f3-02aa-4eee-a8da-51d484a2b1a8",
   "metadata": {},
   "source": [
    "* ### SAS start-up"
   ]
  },
  {
   "cell_type": "markdown",
   "id": "58ae3e47-6ffd-4ac6-aa58-7cd5c7232e89",
   "metadata": {},
   "source": [
    "Use the 'expanduser' function from the 'os.path' module to get the home directory of the current user. The variable 'home' now will contain the path to the home directory of the current user:"
   ]
  },
  {
   "cell_type": "code",
   "execution_count": null,
   "id": "5520811d-541c-4927-a6ff-7b7eab1c5023",
   "metadata": {
    "tags": []
   },
   "outputs": [],
   "source": [
    "home = os.path.expanduser('~')"
   ]
  },
  {
   "cell_type": "code",
   "execution_count": null,
   "id": "2e34d91b-e208-41b9-9fda-fe2454172719",
   "metadata": {},
   "outputs": [],
   "source": [
    "notebook_dir = os.getcwd()\n",
    "print(f\"Current working directory: {notebook_dir}\")"
   ]
  },
  {
   "cell_type": "markdown",
   "id": "a2e5e4eb-3553-4983-b96c-9461692e0ed7",
   "metadata": {},
   "source": [
    "Create the working dircetory where all the files produced along the process can be stroed and accessed easily below. Make sure to save your files inside the `my_workspace` folder for permanent storage, as everything stored outside of this folder will be erased every time the Datalab is closed."
   ]
  },
  {
   "cell_type": "code",
   "execution_count": null,
   "id": "118df17f-7d86-48b0-9787-5b9ce9fbe3dd",
   "metadata": {
    "tags": []
   },
   "outputs": [],
   "source": [
    "wdir=f'{home}/VelaX1-data'\n",
    "\n",
    "#Check if the working directory exists, and create it if it doesn't\n",
    "if not os.path.exists(wdir):\n",
    "    os.makedirs(wdir)\n",
    "\n",
    "#Change to working directory\n",
    "os.chdir(wdir)\n",
    "\n",
    "print(f\"Current working directory: {os.getcwd()}\")"
   ]
  },
  {
   "cell_type": "markdown",
   "id": "bb651d66-3485-4337-80ad-21e7e54bbbfe",
   "metadata": {},
   "source": [
    "Define the path to the CCF files provided as a data volume by Datalabs. Hence the user des not need to download any CCF files nor worry about updates. For more information on how to add them in your Datalabs data volume, please refer to the general guidelines on the ESA Datalabs Help section."
   ]
  },
  {
   "cell_type": "code",
   "execution_count": null,
   "id": "14d706a9-eb5b-438f-8519-c39a6a499461",
   "metadata": {
    "tags": []
   },
   "outputs": [],
   "source": [
    "# Type the path you have used to mount the CCF directory. \n",
    "ccf_paths = ['/data/user/pub', '/data/pub']"
   ]
  },
  {
   "cell_type": "code",
   "execution_count": null,
   "id": "abca4feb-beaf-46f7-9cad-e0dd41d71846",
   "metadata": {
    "tags": []
   },
   "outputs": [],
   "source": [
    "for user_ccfpath in ccf_paths:\n",
    "    ccf_path = f'{home}{user_ccfpath}'\n",
    "    if os.path.isdir(ccf_path):\n",
    "        os.environ['SAS_CCFPATH'] = ccf_path\n",
    "        print(\"Path to the XMM-Newton CCFs: \" + ccf_path + \"\\n\")\n",
    "        break\n",
    "else:\n",
    "    raise FileNotFoundError(\"Cannot locate the specified CCF paths, please check your data volume.\")"
   ]
  },
  {
   "cell_type": "markdown",
   "id": "6c0acdf6-d6f7-4002-8407-d7863d46d723",
   "metadata": {},
   "source": [
    "Before starting, it is a good practice to sun `sasver` to check which SAS variables are defined."
   ]
  },
  {
   "cell_type": "code",
   "execution_count": null,
   "id": "e9f52c55-ff5c-4ead-a371-f7763eb904b2",
   "metadata": {
    "tags": []
   },
   "outputs": [],
   "source": [
    "inargs = []\n",
    "t = w('sasver', inargs)\n",
    "t.run()"
   ]
  },
  {
   "cell_type": "markdown",
   "id": "771756ad-51cc-47a4-9944-1981042b6339",
   "metadata": {},
   "source": [
    "Next, we execute the command `startsas`. The task downloads the ODFs of the odfid the user defines in the working directory defined earlier. Please refer to the [XMM-Newton Science Archive](https://www.cosmos.esa.int/web/xmm-newton/xsa) to search through the catalogue for different observation IDs. We will be working with ODF 0841890201."
   ]
  },
  {
   "cell_type": "code",
   "execution_count": null,
   "id": "6c30ca5a-d072-42bc-aab6-1c669a9cba1d",
   "metadata": {
    "tags": []
   },
   "outputs": [],
   "source": [
    "t = w('startsas',['odfid=0841890201'])\n",
    "t.run()"
   ]
  },
  {
   "cell_type": "markdown",
   "id": "a5ec6d54-f76d-4a26-96f6-d35983ccec7e",
   "metadata": {},
   "source": [
    "* ### Running `epproc`"
   ]
  },
  {
   "cell_type": "code",
   "execution_count": null,
   "id": "680012d5-d472-4f29-99d0-4c09bfcb3693",
   "metadata": {
    "tags": []
   },
   "outputs": [],
   "source": [
    "inargs = [f'sas_ccf={wdir}/ccf.cif', f'sas_odf={wdir}/3553_0841890201_SCX00000SUM.SAS', f'workdir={wdir}']\n",
    "\n",
    "w('startsas', inargs).run()"
   ]
  },
  {
   "cell_type": "markdown",
   "id": "4c5c2b05-3fd1-4399-bbb6-d1e93e30be49",
   "metadata": {},
   "source": [
    "We will now apply `epproc` for this observation that has been taken in timing mode. Timing mode can be used for very bright sources (such as this observation of Vela X-1), which require a shorter readout time. In timing mode the arrival times of individual X-ray photons are recorded with high precision. Rather than focusing on spatial information, this mode emphasizes the temporal aspects of X-ray events, making it ideal for studying time-dependent phenomena. Timing mode can allow us to extract detailed information about periodicities, rotational periods, and other temporal characteristics, providing insights into the dynamic behavior of Vela X-1. The default intrinsic timing mode calibration settings when running the `epproc` task are shown below:\n",
    "```\n",
    "TIMING: withrdpha=“Y”, withxrlcorrection=“Y”, runepreject=“Y”, runepfast=“N”\n",
    "```\n",
    "One can change the default calibration settings by adding `withdefaultcal=“N”` as argument of the `epproc` task and set the aforementioned calibration parameters to their own preference. If further information is needed please refer to the thread *How to Reprocess ODFS to Generate Calibrated and Concatenated EPIC Event Lists* and to the Appendix of [Diez et al. (2023)](https://arxiv.org/pdf/2303.09631.pdf) for issues with default calibration settings when in timing mode. For this exercise, we apply the same calibration corrections as in [Diez et al. (2023)](https://arxiv.org/pdf/2303.09631.pdf)."
   ]
  },
  {
   "cell_type": "code",
   "execution_count": null,
   "id": "9e69ecaa-0b13-48bb-b24b-c5cd2aef9514",
   "metadata": {
    "tags": []
   },
   "outputs": [],
   "source": [
    "# SAS Command\n",
    "cmd    = 'epproc'  # SAS task to be executed\n",
    "\n",
    "# Arguments of SAS Command, leave empty if you want to run with default calibration settings for timing mode\n",
    "inargs = ['withdefaultcal=no', 'withrdpha=no', 'runepreject=yes', 'withxrlcorrection=yes', 'runepfast=yes']        #remove arguments for default cal\n",
    "# comma separated arguments for SAS task\n",
    "\n",
    "print(\"   SAS command to be executed: \"+cmd+\", with arguments; \\n\")\n",
    "inargs"
   ]
  },
  {
   "cell_type": "code",
   "execution_count": null,
   "id": "47cc9cea-08fe-47b2-9f59-84fe2de95295",
   "metadata": {
    "tags": []
   },
   "outputs": [],
   "source": [
    "print(\"Running epproc ..... \\n\")\n",
    "\n",
    "# Check if epproc has already run. If it has, do not run again \n",
    "exists = 0\n",
    "pnevt_list = []\n",
    "for root, dirs, files in os.walk(\".\"):\n",
    "    for filename in files:\n",
    "        if (filename.find('EPN') != -1) and filename.endswith('TimingEvts.ds'):\n",
    "            pnevt_list.append(filename)\n",
    "            exists = 1\n",
    "if exists:\n",
    "    print(\" > \" + str(len(pnevt_list)) + \" EPIC-pn event list found. Not running epproc again.\\n\")\n",
    "    for x in pnevt_list:\n",
    "        print(\"    \" + x + \"\\n\")\n",
    "    print(\"..... OK\")\n",
    "else:\n",
    "    w(cmd,inargs).run()      # <<<<< Execute SAS task\n",
    "    exists = 0\n",
    "    pnevt_list = []\n",
    "    for root, dirs, files in os.walk(\".\"):\n",
    "        for filename in files:\n",
    "            if (filename.find('EPN') != -1) and filename.endswith('TimingEvts.ds'):\n",
    "                pnevt_list.append(filename)\n",
    "                exists = 1\n",
    "    if exists:\n",
    "        print(\" > \" + str(len(pnevt_list)) + \" EPIC-pn event list found after running epproc.\\n\")\n",
    "        for x in pnevt_list:\n",
    "            print(\"    \" + x + \"\\n\")\n",
    "        print(\"..... OK\")\n",
    "    else:\n",
    "        print(\"Something has gone wrong with epproc. I cant find any event list files after running. \\n\")"
   ]
  },
  {
   "cell_type": "markdown",
   "id": "0470ef61-eb93-436c-bb17-bcc69f34875a",
   "metadata": {},
   "source": [
    "* ### Do I need to apply filtering for flaring particle background?"
   ]
  },
  {
   "cell_type": "markdown",
   "id": "fc9aa3f1-2a5b-4465-8f00-852c7e8b57f6",
   "metadata": {},
   "source": [
    "You do not always need to apply filtering for flaring particle background. In this scenario the source brightness is high enough to not require any filtering, because the flux of the object would be in every case larger than the possible flaring particle background. However, let us demonstrate this is indeed the case for demonstration purposes by inspecting the source and flaring particle background lightcurves.\n",
    "\n",
    "We define our event file produced n the previous step:"
   ]
  },
  {
   "cell_type": "code",
   "execution_count": null,
   "id": "44a1b886-7cc8-407a-8616-99d4a884ff23",
   "metadata": {
    "tags": []
   },
   "outputs": [],
   "source": [
    "eventfile = wdir+'/3553_0841890201_EPN_S003_TimingEvts.ds'"
   ]
  },
  {
   "cell_type": "code",
   "execution_count": null,
   "id": "6f4f37aa-1e23-43c3-a66b-1982b0ad3de6",
   "metadata": {
    "tags": []
   },
   "outputs": [],
   "source": [
    "# Define a SAS filter expression to derive a background rate cut\n",
    "\n",
    "pn_pattern   = 0        # pattern selection\n",
    "pn_pi_min    = 10000.   # Low energy range eV\n",
    "pn_pi_max    = 12000.   # High energy range eV\n",
    "pn_threshold = 0.4      # cts/sec (only used here for display purposes)\n",
    "\n",
    "out_LCFile   = wdir+'/PN_bkg_nrjthreshold.fits'  # Name of the output BKG lightcurve"
   ]
  },
  {
   "cell_type": "markdown",
   "id": "69f6de95-da66-499a-a7d0-1fd36c1a57ee",
   "metadata": {},
   "source": [
    "The argument values can be altered depending on the user, these are only display numbers. After observing the produced light curve, the user can either come back and change values above and rerun the kernels or just copy the same kernels with the new values."
   ]
  },
  {
   "cell_type": "code",
   "execution_count": null,
   "id": "cc7f43db-509e-4c12-aa40-0240261cd0b8",
   "metadata": {
    "tags": []
   },
   "outputs": [],
   "source": [
    "# SAS Command\n",
    "cmd        = \"evselect\" # SAS task to be executed                  \n",
    "\n",
    "# Arguments of SAS Command\n",
    "expression = f'#XMMEA_EP&&(PI>={pn_pi_min}&&PI<={pn_pi_max})&&(PATTERN=={pn_pattern})'  # event filter expression\n",
    "inargs     = [f'table={eventfile}','withrateset=Y',f'rateset={out_LCFile}','maketimecolumn=Y','timebinsize=100','makeratecolumn=Y',f'expression={expression}']\n",
    "\n",
    "print(\"   Filter expression to use: \"+expression+\" \\n\")\n",
    "print(\"   SAS command to be executed: \"+cmd+\", with arguments; \\n\")\n",
    "inargs"
   ]
  },
  {
   "cell_type": "code",
   "execution_count": null,
   "id": "0ec5b87e-d247-4172-9cfb-b8ee416c5c60",
   "metadata": {
    "tags": []
   },
   "outputs": [],
   "source": [
    "%%capture\n",
    "# Execute SAS task with parameters\n",
    "\n",
    "w(cmd, inargs).run()"
   ]
  },
  {
   "cell_type": "code",
   "execution_count": null,
   "id": "05813fc1-b3c1-41e1-98c9-02448d730f92",
   "metadata": {
    "tags": []
   },
   "outputs": [],
   "source": [
    "# Plot BKG lightcurve\n",
    "name= [\"background light curve\"]\n",
    "file_paths = [out_LCFile]\n",
    "\n",
    "# Call the function to plot light curves\n",
    "plotLC(file_paths, name, threshold = None)\n"
   ]
  },
  {
   "cell_type": "code",
   "execution_count": null,
   "id": "eb817e01-d366-438b-b468-c9736f0a4516",
   "metadata": {
    "tags": []
   },
   "outputs": [],
   "source": [
    "pn_pi_min    = 150   \n",
    "out_file = wdir + '/PN_sr_Rthreshold.fits'"
   ]
  },
  {
   "cell_type": "code",
   "execution_count": null,
   "id": "eddfc041-7165-4bf9-9913-fae4bc92ce10",
   "metadata": {
    "tags": []
   },
   "outputs": [],
   "source": [
    "# SAS Command\n",
    "cmd        = \"evselect\" # SAS task to be executed                  \n",
    "\n",
    "# Arguments of SAS Command\n",
    "expression = f'#XMMEA_EP&&(PI>={pn_pi_min})'  # event filter expression\n",
    "inargs     = [f'table={eventfile}','withrateset=Y',f'rateset={out_file}','maketimecolumn=Y','timebinsize=283.44','makeratecolumn=Y',f'expression={expression}']\n",
    "\n",
    "print(\"   Filter expression to use: \"+expression+\" \\n\")\n",
    "print(\"   SAS command to be executed: \"+cmd+\", with arguments; \\n\")\n",
    "inargs"
   ]
  },
  {
   "cell_type": "code",
   "execution_count": null,
   "id": "c5301cac-a2e1-402a-96a9-73c2937e8250",
   "metadata": {
    "tags": []
   },
   "outputs": [],
   "source": [
    "%%capture\n",
    "# Execute SAS task with parameters\n",
    "\n",
    "w(cmd, inargs).run()"
   ]
  },
  {
   "cell_type": "code",
   "execution_count": null,
   "id": "4f23a98e-623c-444b-8d34-60c6dbc57fbf",
   "metadata": {
    "tags": []
   },
   "outputs": [],
   "source": [
    "name= [\" \"]\n",
    "file_paths = [out_file]\n",
    "\n",
    "# Call the function to plot light curves\n",
    "plotLC(file_paths, name, threshold = None)\n"
   ]
  },
  {
   "cell_type": "markdown",
   "id": "b83c2e73-8022-4fe0-9c6f-cb58da76957b",
   "metadata": {},
   "source": [
    "* ### Barycentric correction\n",
    "\n",
    "Here we apply a barycentric correction, necessary\n",
    "for high resolved timing analysis. "
   ]
  },
  {
   "cell_type": "markdown",
   "id": "a72680c1-621f-4603-9d21-1645b32ee6bd",
   "metadata": {},
   "source": [
    "After inspecting the light curve, the user can choose to remove the threshold value altogether if they see no need for it. This is particularly applicable in scenarios where the source is bright enough, rendering particle background filtering unnecessary. Hence we can run `evselect` in the following conditions:"
   ]
  },
  {
   "cell_type": "code",
   "execution_count": null,
   "id": "a33c48c5-e49a-4ed6-98a6-091e0eab9c1d",
   "metadata": {
    "tags": []
   },
   "outputs": [],
   "source": [
    "pn_pi_min    = 150   \n",
    "out_file = wdir + '/PN_clean_evt.fits'"
   ]
  },
  {
   "cell_type": "code",
   "execution_count": null,
   "id": "6c783f07-2e6a-4224-bbcf-ff0e80bd8a02",
   "metadata": {
    "tags": []
   },
   "outputs": [],
   "source": [
    "# SAS Command\n",
    "cmd        = \"evselect\" # SAS task to be executed                  \n",
    "\n",
    "# Arguments of SAS Command\n",
    "expression = f'#XMMEA_EP&&(PI>={pn_pi_min})'  # event filter expression\n",
    "inargs     = [f'table={eventfile}','withfilteredset=Y',f'filteredset={out_file}','destruct=Y','keepfilteroutput=T',f'expression={expression}']\n",
    "\n",
    "print(\"   Filter expression to use: \"+expression+\" \\n\")\n",
    "print(\"   SAS command to be executed: \"+cmd+\", with arguments; \\n\")\n",
    "inargs"
   ]
  },
  {
   "cell_type": "code",
   "execution_count": null,
   "id": "2dc03455-7d0b-4f07-a655-7fdd850167a0",
   "metadata": {
    "tags": []
   },
   "outputs": [],
   "source": [
    "%%capture\n",
    "# Execute SAS task with parameters\n",
    "\n",
    "w(cmd, inargs).run()"
   ]
  },
  {
   "cell_type": "markdown",
   "id": "db3442fc-d103-48da-a75e-7ecf305308d0",
   "metadata": {},
   "source": [
    "Next we shall run the task `barycen`. The `barycen` task is designed to convert times from the local satellite frame to Barycentric Dynamical Time (TDB) using a specified table in a dataset containing times in XMM MET (Mission Elapsed Time) format. The task checks if barycentric conversion has been performed, exits if true, and proceeds to correct time tags in the specified column. Additionally, it converts interval start and stop times to TDB if a Good Time Interval extension exists and corrects time tags in EXPOSU tables if the relevant parameter is enabled. The task updates TIMEREF, TSTART, TSTOP, and TELAPSE attributes where necessary."
   ]
  },
  {
   "cell_type": "code",
   "execution_count": null,
   "id": "6d80e145-2c09-457a-af23-870136530911",
   "metadata": {
    "tags": []
   },
   "outputs": [],
   "source": [
    "# Use the 'copy' function from the 'shutil' module to copy the file 'PN_clean_evt.fits'\n",
    "# to a new file named 'PN_clean_evt_nobarycen_cor.fits'.\n",
    "shutil.copy('PN_clean_evt.fits', 'PN_clean_evt_nobarycen_cor.fits')"
   ]
  },
  {
   "cell_type": "code",
   "execution_count": null,
   "id": "77d8434c-a199-4d45-af7f-3ece5619d924",
   "metadata": {
    "tags": []
   },
   "outputs": [],
   "source": [
    "table = wdir + \"/PN_clean_evt.fits\""
   ]
  },
  {
   "cell_type": "code",
   "execution_count": null,
   "id": "e86c758a-09e8-48ee-b264-626b8a326c5b",
   "metadata": {
    "tags": []
   },
   "outputs": [],
   "source": [
    "# SAS Command\n",
    "cmd        = \"barycen\" # SAS task to be executed                  \n",
    "\n",
    "# Arguments of SAS Command\n",
    "inargs     = ['withtable=true', f'table={table}:EVENTS']\n",
    "\n",
    "print(\"   SAS command to be executed: \"+cmd+\", with arguments; \\n\")\n",
    "inargs"
   ]
  },
  {
   "cell_type": "code",
   "execution_count": null,
   "id": "2a24d3b9-9414-4954-aeee-44779f1038af",
   "metadata": {
    "tags": []
   },
   "outputs": [],
   "source": [
    "#|%%capture\n",
    "# Execute SAS task with parameters\n",
    "\n",
    "w(cmd, inargs).run()"
   ]
  },
  {
   "cell_type": "markdown",
   "id": "5f2de570-6bd9-45a8-9044-016a5b3fdb17",
   "metadata": {},
   "source": [
    "Now we have created filtered PN event list files with and without barycen. This barycentric correction will be necessary\n",
    "for high resolved timing analysis later on."
   ]
  },
  {
   "cell_type": "markdown",
   "id": "96e58cdf-1dd6-4e6c-b534-a9b22cb47167",
   "metadata": {},
   "source": [
    "* ### Extracting the average light curve"
   ]
  },
  {
   "cell_type": "markdown",
   "id": "323dff40-acb0-4378-adaa-998a376abcf2",
   "metadata": {},
   "source": [
    "Let us produce an image from our event file. "
   ]
  },
  {
   "cell_type": "code",
   "execution_count": null,
   "id": "67750e86-f3df-4420-9ef5-d9dcd84dedab",
   "metadata": {
    "tags": []
   },
   "outputs": [],
   "source": [
    "# Define some parameters to produce the image and the name of the output file\n",
    "\n",
    "xbin=1     # xbin size\n",
    "ybin=1    # ybin size\n",
    "xcoord='RAWX'  # coordinate system\n",
    "ycoord='RAWY'  # coordinate system\n",
    "\n",
    "out_IMFile   = wdir+'/PNimage.fits'  # Name of the output Image file "
   ]
  },
  {
   "cell_type": "code",
   "execution_count": null,
   "id": "5303e8d1-4afb-45a4-9dfb-d1f43e6d4738",
   "metadata": {
    "tags": []
   },
   "outputs": [],
   "source": [
    "# SAS Command\n",
    "cmd        = \"evselect\" # SAS task to be executed                  \n",
    "\n",
    "# Arguments of SAS Command\n",
    "inargs     = [f'table={table}','imagebinning=binSize',f'imageset={out_IMFile}','withimageset=yes',f'xcolumn={xcoord}',f'ycolumn={ycoord}',f'ximagebinsize={xbin}',f'yimagebinsize={ybin}']\n",
    "\n",
    "print(\"   SAS command to be executed: \"+cmd+\", with arguments; \\n\")\n",
    "inargs"
   ]
  },
  {
   "cell_type": "code",
   "execution_count": null,
   "id": "41fe64e7-9308-41f2-99dc-5ee0291ddf7e",
   "metadata": {
    "tags": []
   },
   "outputs": [],
   "source": [
    "%%capture\n",
    "w(cmd, inargs).run()"
   ]
  },
  {
   "cell_type": "markdown",
   "id": "cb49a9af-1d60-4a67-8453-efb5ff810daa",
   "metadata": {},
   "source": [
    "In the image file the RAWY column is time, as the image produced was in timing mode. The source should be visible as a long bright line. Now we need to define the RARX1 and RAWX2 coordinate range for the strip of bright line which is the source, for this we can use js9 to get the coordination of the pixels."
   ]
  },
  {
   "cell_type": "markdown",
   "id": "2fa514da-394c-4239-b07f-42726aefdc96",
   "metadata": {},
   "source": [
    "Below we load the image produced in js9 using a custom function, so we can determine our RAWX1 and RAWX2 coordinates."
   ]
  },
  {
   "cell_type": "code",
   "execution_count": null,
   "id": "beaa32b8-110a-4078-b49b-f04779a3351a",
   "metadata": {
    "tags": []
   },
   "outputs": [],
   "source": [
    "my_js9 = jpyjs9.JS9(width=600, height=700)"
   ]
  },
  {
   "cell_type": "code",
   "execution_count": null,
   "id": "9e13b7fe-28a4-4bee-8e01-0a1037ca4b86",
   "metadata": {
    "tags": []
   },
   "outputs": [],
   "source": [
    "visualise(my_js9, out_IMFile)"
   ]
  },
  {
   "cell_type": "markdown",
   "id": "5583ba4a-fc29-487d-9b6c-ad01d14bff37",
   "metadata": {},
   "source": [
    "The values chosen in this case are taken from the paper of [Diez et al. (2023)](https://arxiv.org/pdf/2303.09631.pdf), where they study the same observation. However, the user can feel free to play around and experiment with their own values."
   ]
  },
  {
   "cell_type": "code",
   "execution_count": null,
   "id": "62e8ef37-cb4c-47b6-86d2-2cdb33a9d4b2",
   "metadata": {
    "tags": []
   },
   "outputs": [],
   "source": [
    "rawX1src = 32 #RAWX1 of the source rectangle region (in pixels)\n",
    "rawX2src = 44 #RAWX2 of the source rectangle region (in pixels)"
   ]
  },
  {
   "cell_type": "code",
   "execution_count": null,
   "id": "3cb2d3f8-e201-4550-ad8d-f94849cfc971",
   "metadata": {
    "tags": []
   },
   "outputs": [],
   "source": [
    "# Extract the source region lightcurve\n",
    "\n",
    "# Define some parameters for filtering the event file and define the lightcurve binning\n",
    "\n",
    "q_flag       = \"#XMMEA_EP\" # Quality flag for EPIC pn\n",
    "n_pattern    = 4           # Pattern selection\n",
    "pn_pi_min    = 500.        # Low energy range eV\n",
    "pn_pi_max    = 10000.      # High energy range eV\n",
    "lc_bin       = 283         # Lightcurve bin in secs\n",
    "\n",
    "# Define the output ligthcurve file name\n",
    "\n",
    "in_LCSRCFile = wdir+'/PN_source_lightcurve_raw_bin283sec.lc'   # Name of the output source lightcurve"
   ]
  },
  {
   "cell_type": "code",
   "execution_count": null,
   "id": "cd77cf6e-5e98-4000-a798-7505ef75d648",
   "metadata": {
    "tags": []
   },
   "outputs": [],
   "source": [
    "# SAS Command\n",
    "cmd        = \"evselect\" # SAS task to be executed                  \n",
    "\n",
    "# Arguments of SAS Command\n",
    "expression = f'{q_flag}&&(PATTERN<={n_pattern})&&(RAWX in [{rawX1src}:{rawX2src}])&&(PI in [{pn_pi_min}:{pn_pi_max}])'  # event filter expression\n",
    "inargs     = [f'table={table}','energycolumn=PI','withrateset=yes',f'rateset={in_LCSRCFile}',\n",
    "              f'timebinsize={lc_bin}','maketimecolumn=yes','makeratecolumn=yes',f'expression={expression}']\n",
    "\n",
    "print(\"   Filter expression to use: \"+expression+\" \\n\")\n",
    "print(\"   SAS command to be executed: \"+cmd+\", with arguments; \\n\")\n",
    "inargs"
   ]
  },
  {
   "cell_type": "code",
   "execution_count": null,
   "id": "ba6a4ffe-e31d-4fd2-86f7-0e041b391775",
   "metadata": {
    "tags": []
   },
   "outputs": [],
   "source": [
    "%%capture\n",
    "w(cmd, inargs).run()"
   ]
  },
  {
   "cell_type": "markdown",
   "id": "2309c371-db1e-48ba-b22a-abb4396d2792",
   "metadata": {},
   "source": [
    "After extration we can plot the lightcurve of the selected source region:"
   ]
  },
  {
   "cell_type": "code",
   "execution_count": null,
   "id": "437d8379-bb70-4442-a727-eae327e389c5",
   "metadata": {
    "tags": []
   },
   "outputs": [],
   "source": [
    "name= [\"Source with 283 bin in sec\"]\n",
    "file_paths = [in_LCSRCFile]\n",
    "plotVelaX1LC(file_paths, name, threshold=None, figname=\"src_lightcurve.png\")"
   ]
  },
  {
   "cell_type": "markdown",
   "id": "4781e256-b344-47eb-9cfa-741d8e0a3971",
   "metadata": {},
   "source": [
    "Next moving onto extracting the lightcurve of the background region, where again pixel coordinate values have been taken from [Diez et al. (2023)](https://arxiv.org/pdf/2303.09631.pdf):"
   ]
  },
  {
   "cell_type": "code",
   "execution_count": null,
   "id": "27c77eb9-e54a-4d8d-a25e-92749663ef01",
   "metadata": {
    "tags": []
   },
   "outputs": [],
   "source": [
    "rawX1bkg = 3 #RAWX1 of the bkg rectangle region (in pixels)\n",
    "rawX2bkg = 5 #RAWX2 of the bkg rectangle region (in pixels)"
   ]
  },
  {
   "cell_type": "code",
   "execution_count": null,
   "id": "6c152a86-7a19-46ed-a120-a43d099b4bd2",
   "metadata": {
    "tags": []
   },
   "outputs": [],
   "source": [
    "# Extract the background region lightcurve\n",
    "\n",
    "# Define some parameters for filtering the event file and define the lightcurve binning\n",
    "\n",
    "q_flag       = \"#XMMEA_EP\" # Quality flag for EPIC pn\n",
    "n_pattern    = 4           # Pattern selection\n",
    "pn_pi_min    = 500.        # Low energy range eV\n",
    "pn_pi_max    = 10000.      # High energy range eV\n",
    "lc_bin       = 283         # Lightcurve bin in secs\n",
    "\n",
    "# Define the output ligthcurve file name\n",
    "\n",
    "in_LCBKGFile = wdir+'/PN_lightcurve_background_raw_bin283sec.lc'   # Name of the output source lightcurve"
   ]
  },
  {
   "cell_type": "code",
   "execution_count": null,
   "id": "39d97fd9-fe9b-4376-8508-3fe6e1d8832c",
   "metadata": {
    "tags": []
   },
   "outputs": [],
   "source": [
    "# SAS Command\n",
    "cmd        = \"evselect\" # SAS task to be executed                  \n",
    "\n",
    "# Arguments of SAS Command\n",
    "expression = f'{q_flag}&&(PATTERN<={n_pattern})&&(RAWX in [{rawX1bkg}:{rawX2bkg}])&&(PI in [{pn_pi_min}:{pn_pi_max}])'  # event filter expression\n",
    "inargs     = [f'table={table}','energycolumn=PI','withrateset=yes',f'rateset={in_LCBKGFile}',\n",
    "              f'timebinsize={lc_bin}','maketimecolumn=yes','makeratecolumn=yes',f'expression={expression}']\n",
    "\n",
    "print(\"   Filter expression to use: \"+expression+\" \\n\")\n",
    "print(\"   SAS command to be executed: \"+cmd+\", with arguments; \\n\")\n",
    "inargs"
   ]
  },
  {
   "cell_type": "code",
   "execution_count": null,
   "id": "9517e350-ecd3-4bc2-992f-9b0f450b6084",
   "metadata": {
    "tags": []
   },
   "outputs": [],
   "source": [
    "%%capture\n",
    "w(cmd, inargs).run()"
   ]
  },
  {
   "cell_type": "code",
   "execution_count": null,
   "id": "461bdcf3-c5dd-4bad-81c5-487ca2d29fa8",
   "metadata": {
    "tags": []
   },
   "outputs": [],
   "source": [
    "name= [\"Background with 283 bins in sec\"]\n",
    "file_paths = [in_LCBKGFile]\n",
    "plotVelaX1LC(file_paths, name, threshold=None, figname=\"bkg_lightcurve.png\")"
   ]
  },
  {
   "cell_type": "markdown",
   "id": "3756cc64-a51a-4268-b590-094776d56d40",
   "metadata": {},
   "source": [
    "For background extraction we can run the command `epiclccorr` to perform correction of the lightcurve. Hence the command requires as input both light curves (which are used to establish the binning of the final corrected background subtracted light curve) and the event file."
   ]
  },
  {
   "cell_type": "code",
   "execution_count": null,
   "id": "68c010e2-5d64-4cf6-a36d-297af1b9c0ae",
   "metadata": {
    "tags": []
   },
   "outputs": [],
   "source": [
    "# Define the output corrected ligthcurve file name\n",
    "\n",
    "in_LCFile = wdir+'/PN_lccorr_bin283sec.lc'   # Name of the output corrected lightcurve"
   ]
  },
  {
   "cell_type": "code",
   "execution_count": null,
   "id": "24dfb370-9f36-4299-b4de-81bd267238c6",
   "metadata": {
    "tags": []
   },
   "outputs": [],
   "source": [
    "# Correct the light curve with the SAS task epiclccorr\n",
    "\n",
    "# SAS Command\n",
    "cmd        = \"epiclccorr\" # SAS task to be executed                  \n",
    "\n",
    "# Arguments of SAS Command\n",
    "inargs     = [f'eventlist={table}',f'srctslist={in_LCSRCFile}',f'outset={in_LCFile}',\n",
    "              f'bkgtslist={in_LCBKGFile}','withbkgset=yes','applyabsolutecorrections=yes']\n",
    "\n",
    "print(\"   SAS command to be executed: \"+cmd+\", with arguments; \\n\")\n",
    "inargs"
   ]
  },
  {
   "cell_type": "code",
   "execution_count": null,
   "id": "d0bc5692-d40a-4a4e-b9a9-25d47974bf1e",
   "metadata": {
    "tags": []
   },
   "outputs": [],
   "source": [
    "%%capture\n",
    "w(cmd, inargs).run()"
   ]
  },
  {
   "cell_type": "markdown",
   "id": "fcdb1018-0568-4a08-8cb6-b85e3d8cdc38",
   "metadata": {},
   "source": [
    "Let us visualize all the lightcurves produced using matplotlib lightcurve plotting function define by us through the plotLC python file, where we can bin some of the data for a cleaner look:"
   ]
  },
  {
   "cell_type": "code",
   "execution_count": null,
   "id": "b5dee67a-9519-4386-8d55-1a9ea34f637c",
   "metadata": {
    "tags": []
   },
   "outputs": [],
   "source": [
    "# Inspect the light curves\n",
    "fileNames = [in_LCFile, in_LCSRCFile]\n",
    "names = ['Corrected', 'Source']\n",
    "\n",
    "plotVelaX1LC(fileNames, names, threshold=None, figname=\"combined_lightcurvenothreshold.png\")"
   ]
  },
  {
   "cell_type": "markdown",
   "id": "36f3f28a-e070-4ff0-85f6-5b43ca3e019a",
   "metadata": {},
   "source": [
    "* ### Checking for Pile-Up\n",
    "\n",
    "\"Pile-up\" happens when the detector registers multiple X-ray photons within a single readout frame as a single event. This occurs when the X-ray flux is so high that the detector cannot distinguish individual photons, and their signals overlap or pile up.\n",
    "\n",
    "In XMM-Newton, each incoming X-ray photon is converted into an electronic signal. However, if multiple photons arrive at the detector in rapid succession, their signals may overlap, leading to an inaccurate representation of the detected X-ray events. This phenomenon can distort the measured X-ray spectra and impact the accuracy of scientific observations.\n",
    "\n",
    "This step is usually advised to be applied before extracting the light curves as done on the previous step, however as the source we look at is immensely bright, the pile-up effect will not have an significant impact on the output light curve. However, we apply it here as before the extraction of the spectrum it is important, otherwise it could lead to false output with the spectrum having higher flux at high energies."
   ]
  },
  {
   "cell_type": "code",
   "execution_count": null,
   "id": "e411f12c-e873-44d5-b205-205150d4179e",
   "metadata": {
    "tags": []
   },
   "outputs": [],
   "source": [
    "# Define some parameters for filtering the event file\n",
    "rawX1src = 32\n",
    "rawX2src = 44\n",
    "pn_pi_min    = 550.        # Low energy range eV\n",
    "pn_pi_max    = 10000.      # High energy range eV\n",
    "\n",
    "# Define the output file name\n",
    "\n",
    "filtered_output = wdir+'/PN_filtered_'+str(rawX1src)+'-'+str(rawX2src)+'.evt' "
   ]
  },
  {
   "cell_type": "code",
   "execution_count": null,
   "id": "1cf88085-539c-4b9c-a81c-7b968539a2bb",
   "metadata": {
    "tags": []
   },
   "outputs": [],
   "source": [
    "# SAS Command\n",
    "cmd        = \"evselect\" # SAS task to be executed                  \n",
    "\n",
    "# Arguments of SAS Command\n",
    "expression = f'(RAWX in [{rawX1src}:{rawX2src}])&&(PI in [{pn_pi_min}:{pn_pi_max}])'  # event filter expression\n",
    "inargs     = [f'table={table}','withfilteredset=yes',f'filteredset={filtered_output}',\n",
    "              'keepfilteroutput=yes',f'expression={expression}']\n",
    "\n",
    "print(\"   Filter expression to use: \"+expression+\" \\n\")\n",
    "print(\"   SAS command to be executed: \"+cmd+\", with arguments; \\n\")\n",
    "inargs"
   ]
  },
  {
   "cell_type": "code",
   "execution_count": null,
   "id": "3e8d5d31-211b-4341-9ea6-11a459be1b23",
   "metadata": {
    "tags": []
   },
   "outputs": [],
   "source": [
    "%%capture\n",
    "w(cmd, inargs).run()"
   ]
  },
  {
   "cell_type": "markdown",
   "id": "838d4889-576d-4787-86a8-a60cba1e2992",
   "metadata": {},
   "source": [
    "We can use the SAS command `epatplot` to plot EPIC pn and MOS event pattern statistics, which should help us see if pile-up has occured. For further in depth information the user is advised to look at the thread *How to Evaluate and test Pile-Up in an EPIC Source*."
   ]
  },
  {
   "cell_type": "code",
   "execution_count": null,
   "id": "5fa64a43-c694-4809-b875-0982d6e90d48",
   "metadata": {
    "tags": []
   },
   "outputs": [],
   "source": [
    "%%capture\n",
    "w('epatplot',[f'set={filtered_output}']).run()"
   ]
  },
  {
   "cell_type": "markdown",
   "id": "cb03a8d4-39d3-4667-820e-106da5164e36",
   "metadata": {},
   "source": [
    "We can check the image produced in our working directory. It is a PDF file named: PN_filtered_32-44_pat.pdf ."
   ]
  },
  {
   "cell_type": "markdown",
   "id": "4b8d7292-744b-43ad-bfe7-9ff84d7cf7fc",
   "metadata": {},
   "source": [
    "As we can see the double events are higher than theory line and single ones are lower for our observation, thereby indicating the need for applying a pile-up correction, which we apply below:"
   ]
  },
  {
   "cell_type": "code",
   "execution_count": null,
   "id": "9f030af0-0d69-4108-b0b2-a04f32c914a4",
   "metadata": {
    "tags": []
   },
   "outputs": [],
   "source": [
    "# Define some parameters for filtering the event file \n",
    "rawX3src = 36\n",
    "rawX4src = 40\n",
    "pn_pi_min    = 550.        # Low energy range eV\n",
    "pn_pi_max    = 10000.      # High energy range eV\n",
    "\n",
    "# Define the output file name\n",
    "\n",
    "filtered_output = wdir+'/PN_filtered_annulus_'+str(rawX1src)+'-'+str(rawX3src)+'_'+str(rawX4src)+'-'+str(rawX2src)+'.evt'   # Name of the output "
   ]
  },
  {
   "cell_type": "code",
   "execution_count": null,
   "id": "0b838f25-37c9-40e8-8b7e-7b7dcb2c3f83",
   "metadata": {
    "tags": []
   },
   "outputs": [],
   "source": [
    "# SAS Command\n",
    "cmd        = \"evselect\" # SAS task to be executed                  \n",
    "\n",
    "# Arguments of SAS Command\n",
    "expression = f'(RAWX in [{rawX1src}:{rawX3src}] || RAWX in [{rawX4src}:{rawX2src}])&&(PI in [{pn_pi_min}:{pn_pi_max}])'  # event filter expression\n",
    "inargs     = [f'table={table}','withfilteredset=yes',f'filteredset={filtered_output}',\n",
    "              'keepfilteroutput=yes',f'expression={expression}']\n",
    "\n",
    "print(\"   Filter expression to use: \"+expression+\" \\n\")\n",
    "print(\"   SAS command to be executed: \"+cmd+\", with arguments; \\n\")\n",
    "inargs"
   ]
  },
  {
   "cell_type": "code",
   "execution_count": null,
   "id": "8b827880-2a87-4495-af1c-0418930dc389",
   "metadata": {
    "tags": []
   },
   "outputs": [],
   "source": [
    "%%capture\n",
    "w(cmd, inargs).run()"
   ]
  },
  {
   "cell_type": "code",
   "execution_count": null,
   "id": "3f0ac2ab-c111-406a-928d-7d42b35ec449",
   "metadata": {
    "tags": []
   },
   "outputs": [],
   "source": [
    "%%capture\n",
    "w('epatplot',[f'set={filtered_output}']).run()"
   ]
  },
  {
   "cell_type": "markdown",
   "id": "6d959c81-f614-4bcb-add2-463edca36e9b",
   "metadata": {},
   "source": [
    "Check the pdf produced in the working directory named PN_filtered_annulus_32-36_40-44_pat.pdf. Now we can see that after the correction the theory and observation match and we have accounted for pile-up, therefore we can move onto extracting the spectrum of the source safely."
   ]
  },
  {
   "cell_type": "markdown",
   "id": "8eb5b7a4-a819-45c0-adef-24e0c9d26391",
   "metadata": {},
   "source": [
    "* ### Spectrum Extraction\n",
    "\n",
    "#### Time Averaged Spectrum"
   ]
  },
  {
   "cell_type": "markdown",
   "id": "ca88f8a2-8ba4-45c2-af0c-16aa36ce8ac6",
   "metadata": {},
   "source": [
    "No we can produce a spectrum for the source region, by avoiding pile-up regions:"
   ]
  },
  {
   "cell_type": "code",
   "execution_count": null,
   "id": "865c8ccf-b7d9-41fb-9764-2db3c749158b",
   "metadata": {
    "tags": []
   },
   "outputs": [],
   "source": [
    "rawX1src= 32\n",
    "rawX2src = 44"
   ]
  },
  {
   "cell_type": "code",
   "execution_count": null,
   "id": "18fed8c6-ceaa-478b-8a50-05d19a91e088",
   "metadata": {
    "tags": []
   },
   "outputs": [],
   "source": [
    "#core of the psf coordinates:\n",
    "rawX3src = 36\n",
    "rawX4src = 40\n",
    "spectrumset= wdir+ '/PN_source_spectrum_raw_'+str(rawX1src)+'-'+str(rawX3src)+'_'+str(rawX4src)+'-'+str(rawX2src)+'.fits'"
   ]
  },
  {
   "cell_type": "code",
   "execution_count": null,
   "id": "5c32e0a9-92e7-4eb6-a341-637c99dcc5fe",
   "metadata": {
    "tags": []
   },
   "outputs": [],
   "source": [
    "# SAS Command\n",
    "cmd        = \"evselect\" # SAS task to be executed                  \n",
    "\n",
    "# Arguments of SAS Command\n",
    "expression = f'(FLAG==0) && (PATTERN<=4) && (RAWX in [{rawX1src}:{rawX3src}] || RAWX in [{rawX4src}:{rawX2src}])'  # event filter expression\n",
    "inargs     = [f'table={table}','withspectrumset=yes',f'spectrumset={spectrumset}',\n",
    "              'energycolumn=PI', 'spectralbinsize=5', 'withspecranges=yes', 'specchannelmin=0', 'specchannelmax=20479',f'expression={expression}']\n",
    "\n",
    "print(\"   Filter expression to use: \"+expression+\" \\n\")\n",
    "print(\"   SAS command to be executed: \"+cmd+\", with arguments; \\n\")\n",
    "inargs"
   ]
  },
  {
   "cell_type": "code",
   "execution_count": null,
   "id": "755e0226-519e-45f3-8076-6ffda23215b8",
   "metadata": {
    "tags": []
   },
   "outputs": [],
   "source": [
    "%%capture\n",
    "w(cmd, inargs).run()"
   ]
  },
  {
   "cell_type": "code",
   "execution_count": null,
   "id": "af1af239-6faf-4ff4-b1bd-db9d0b5c40ef",
   "metadata": {
    "tags": []
   },
   "outputs": [],
   "source": [
    "# SAS Command\n",
    "cmd        = \"backscale\" # SAS task to be executed                  \n",
    "\n",
    "# Arguments of SAS Command\n",
    "inargs     = [f'spectrumset={spectrumset}',f'badpixlocation={table}']\n",
    "\n",
    "print(\"   SAS command to be executed: \"+cmd+\", with arguments; \\n\")\n",
    "inargs"
   ]
  },
  {
   "cell_type": "code",
   "execution_count": null,
   "id": "838e7a8b-ef1d-4bad-b960-13b1f47aedba",
   "metadata": {
    "tags": []
   },
   "outputs": [],
   "source": [
    "%%capture\n",
    "w(cmd, inargs).run()"
   ]
  },
  {
   "cell_type": "code",
   "execution_count": null,
   "id": "3a18fc8b-0583-4d88-ac15-866cb4338ee5",
   "metadata": {
    "tags": []
   },
   "outputs": [],
   "source": [
    "# Define some parameters for rmfgen\n",
    "\n",
    "# Define the output redistribution matrix file name\n",
    "\n",
    "in_RESPFile = wdir+'/PN_'+str(rawX1src)+'-'+str(rawX3src)+'_'+str(rawX4src)+'-'+str(rawX2src)+'.rmf'   # Name of the output redistribution"
   ]
  },
  {
   "cell_type": "code",
   "execution_count": null,
   "id": "9a596d38-21bd-406a-b916-b1db7377d7f5",
   "metadata": {
    "tags": []
   },
   "outputs": [],
   "source": [
    "# SAS Command\n",
    "cmd        = \"rmfgen\" # SAS task to be executed                  \n",
    "\n",
    "# Arguments of SAS Command\n",
    "inargs     = [f'spectrumset={spectrumset}',f'rmfset={in_RESPFile}']\n",
    "\n",
    "print(\"   SAS command to be executed: \"+cmd+\", with arguments; \\n\")\n",
    "inargs"
   ]
  },
  {
   "cell_type": "code",
   "execution_count": null,
   "id": "0cc4f402-58d6-41e4-a239-3143d6fedf72",
   "metadata": {
    "tags": []
   },
   "outputs": [],
   "source": [
    "%%capture\n",
    "w(cmd, inargs).run()"
   ]
  },
  {
   "cell_type": "code",
   "execution_count": null,
   "id": "4aa2a189-b916-4269-a2c4-2d1fe84f3c3a",
   "metadata": {
    "tags": []
   },
   "outputs": [],
   "source": [
    "# Define some parameters for arfgen\n",
    "\n",
    "# Define the output ancillary file name\n",
    "\n",
    "in_ARFFile = wdir+'/PN_'+str(rawX1src)+'-'+str(rawX3src)+'_'+str(rawX4src)+'-'+str(rawX2src)+'.arf'   # Name of the output ancillary"
   ]
  },
  {
   "cell_type": "code",
   "execution_count": null,
   "id": "ce9fb077-8ee7-4a90-862e-ddd966e16548",
   "metadata": {
    "tags": []
   },
   "outputs": [],
   "source": [
    "# SAS Command\n",
    "cmd        = \"arfgen\" # SAS task to be executed                  \n",
    "\n",
    "print(\"   Checking for Response File ..... \\n\")\n",
    "# Check if RESP file is available.\n",
    "if os.path.isfile(in_RESPFile):\n",
    "    print (\"File \"+in_RESPFile+\" exists. \\n\")\n",
    "else:\n",
    "    print (\"File \"+in_RESPFile+\" does not exist, please check. \\n\")\n",
    "\n",
    "# Arguments of SAS Command\n",
    "inargs     = [f'spectrumset={spectrumset}',f'arfset={in_ARFFile}',\n",
    "              'withrmfset=yes',f'rmfset={in_RESPFile}',f'badpixlocation={table}','detmaptype=psf', 'applyabsfluxcorr=yes']\n",
    "\n",
    "print(\"   SAS command to be executed: \"+cmd+\", with arguments; \\n\")\n",
    "inargs"
   ]
  },
  {
   "cell_type": "code",
   "execution_count": null,
   "id": "8c61ccce-0c41-4458-a6c9-ff9af22727b0",
   "metadata": {
    "tags": []
   },
   "outputs": [],
   "source": [
    "%%capture\n",
    "w(cmd, inargs).run()"
   ]
  },
  {
   "cell_type": "code",
   "execution_count": null,
   "id": "fcfd496a-18ba-45d2-8d96-8bbf667377a9",
   "metadata": {
    "tags": []
   },
   "outputs": [],
   "source": [
    "# Define some parameters for specgruop\n",
    "\n",
    "in_GRPFile = wdir+'/PN_spectrum_grp_'+str(rawX1src)+'-'+str(rawX3src)+'_'+str(rawX4src)+'-'+str(rawX2src)+'.fits'   # Name of the output specgruop"
   ]
  },
  {
   "cell_type": "code",
   "execution_count": null,
   "id": "935beddb-eb13-4501-8475-8cfb132117f2",
   "metadata": {
    "tags": []
   },
   "outputs": [],
   "source": [
    "# SAS Command\n",
    "cmd        = \"specgroup\" # SAS task to be executed                  \n",
    "\n",
    "# Arguments of SAS Command\n",
    "inargs     = [f'spectrumset={spectrumset}','mincounts=25','oversample=3',\n",
    "              f'rmfset={in_RESPFile}',f'arfset={in_ARFFile}',\n",
    "              f'groupedset={in_GRPFile}']\n",
    "\n",
    "print(\"   SAS command to be executed: \"+cmd+\", with arguments; \\n\")\n",
    "inargs"
   ]
  },
  {
   "cell_type": "code",
   "execution_count": null,
   "id": "a0a526fb-b28e-471e-82d0-764f98a0b164",
   "metadata": {
    "tags": []
   },
   "outputs": [],
   "source": [
    "%%capture\n",
    "w(cmd, inargs).run()"
   ]
  },
  {
   "cell_type": "markdown",
   "id": "f6f534ff-6086-4267-bb40-2e544ef419a5",
   "metadata": {},
   "source": [
    "Now that we have acquired the final spectrum, we can load the file using pyXspec:"
   ]
  },
  {
   "cell_type": "code",
   "execution_count": null,
   "id": "a7356146-ccc9-4b85-9a5b-768c161c7519",
   "metadata": {
    "tags": []
   },
   "outputs": [],
   "source": [
    "# Before you start, clear all data and models\n",
    "\n",
    "AllModels.clear()  # Clear all models\n",
    "AllData.clear()    # Clear all data"
   ]
  },
  {
   "cell_type": "code",
   "execution_count": null,
   "id": "6af852bf-1c04-46c0-90ba-ab8be748f26c",
   "metadata": {
    "tags": []
   },
   "outputs": [],
   "source": [
    "# Load the group spectral file\n",
    "\n",
    "# The group file already contains in the header the names of all the necessary files needed by xspec\n",
    "# (source and background spectra, response and ancillery files)\n",
    "\n",
    "data1 = Spectrum(in_GRPFile)  # load spectra groupped file\n",
    "\n",
    "AllData.show()                # inspect loaded data"
   ]
  },
  {
   "cell_type": "code",
   "execution_count": null,
   "id": "04cacb51-56f2-407f-8cfd-e3ed963bdf38",
   "metadata": {
    "tags": []
   },
   "outputs": [],
   "source": [
    "# Set the plot device to /null to suppress graphical output\n",
    "\n",
    "Plot.device = \"/null\""
   ]
  },
  {
   "cell_type": "code",
   "execution_count": null,
   "id": "1acb9dc0-db72-45ff-ab42-4904c646137f",
   "metadata": {
    "tags": []
   },
   "outputs": [],
   "source": [
    "# First inspection of the spectrum\n",
    "\n",
    "Plot.xAxis = \"keV\"        # set X axis to energy units\n",
    "Plot.xLog  = True         # log scale\n",
    "Plot.yLog  = True         # log scale\n",
    "Plot(\"data\")   # plot source and background spectra"
   ]
  },
  {
   "cell_type": "code",
   "execution_count": null,
   "id": "ff4c7ad8-100c-4711-be9a-9d22bad2f81c",
   "metadata": {
    "tags": []
   },
   "outputs": [],
   "source": [
    "# Extract data from the XSPEC plot\n",
    "energies = Plot.x(1)    # X-axis values\n",
    "edeltas = Plot.xErr(1)  # X-axis error values\n",
    "rates = Plot.y(1)       # Y-axis values\n",
    "errors = Plot.yErr(1)   # Y-axis error values\n",
    "labels = Plot.labels()"
   ]
  },
  {
   "cell_type": "code",
   "execution_count": null,
   "id": "10e6809d-6d7e-419d-9af0-e8f2f74a8a95",
   "metadata": {
    "tags": []
   },
   "outputs": [],
   "source": [
    "# Customize the plot appearance\n",
    "plt.xscale('log')\n",
    "plt.yscale('log')\n",
    "plt.xlabel(labels[0])\n",
    "plt.ylabel(labels[1])\n",
    "plt.title('Averaged Spectrum Vela X-1: Datalabs')\n",
    "plt.tick_params(axis='both', which='both', direction='in', top=True, right=True)\n",
    "plt.tick_params(axis='both', which='major', labelsize=13, length=10, width=1)\n",
    "plt.tick_params(axis='both', which='minor', length=5, width=1)\n",
    "plt.xticks([0.5, 1, 2, 5, 10], labels=[0.5, 1, 2, 5, 10])\n",
    "\n",
    "# Plot your spectrum with error bars\n",
    "plt.errorbar(energies,rates,xerr=edeltas,yerr=errors,fmt='.')\n",
    "\n",
    "plt.savefig(wdir+\"/averaged-spec-datalabs.png\", dpi=300)"
   ]
  },
  {
   "cell_type": "markdown",
   "id": "cc2e678a-1202-41da-9fbf-86b1ec276832",
   "metadata": {
    "tags": []
   },
   "source": [
    "Above we have visualised an average spectrum, and to fit model the user needs to look at time resolved spectroscopy. In this thread we will not go into the specifics of model fitting for the spectrum.\n",
    "\n",
    "#### Spectra for three distinct observation phases (see Fig. 3 from [Diez et al. (2023)](https://arxiv.org/pdf/2303.09631.pdf))\n",
    "\n",
    "The phases are characterised by their hardness ratio as observed in [Diez et al. (2022)](https://ui.adsabs.harvard.edu/abs/2022A%26A...660A..19D/abstract):\n",
    "    \n",
    "* Stable hardness ratio at: $ 0.37 \\lesssim Orbital Phase \\lesssim 0.44 $\n",
    "* Phase 2: $ 0.44 \\lesssim Orbital Phase \\lesssim 0.46 $\n",
    "* Rise in the hardness ratio at: $ 0.46 \\lesssim Orbital Phase \\lesssim 0.51 $\n",
    "\n",
    "Instead of running the detailed spectrum extraction steps showcased above, we have put the same tasks in a Python script with a loop to run it for our selected time ranges. The file is called spectrum-extractor.py and we simply run it to get the spectra for the three distinct phases of interest."
   ]
  },
  {
   "cell_type": "code",
   "execution_count": null,
   "id": "d1ce66f0-6ec3-4134-8ad4-d42f2ab396bd",
   "metadata": {
    "tags": []
   },
   "outputs": [],
   "source": [
    "os.chdir(notebook_dir)\n",
    "\n",
    "print(f\"Changed working directory to: {os.getcwd()}\")"
   ]
  },
  {
   "cell_type": "code",
   "execution_count": null,
   "id": "fad54c25-517b-4ae1-b2d5-35199f0f223c",
   "metadata": {
    "tags": []
   },
   "outputs": [],
   "source": [
    "os.system(f\"python3 {notebook_dir}/scripts/spectrum-extractor.py\")"
   ]
  },
  {
   "cell_type": "markdown",
   "id": "edcfdd14-a4b6-4eac-a353-04b5a9096846",
   "metadata": {},
   "source": [
    "From the final list printed above we can see the names of the grouped spectrum files, we list them below:"
   ]
  },
  {
   "cell_type": "code",
   "execution_count": null,
   "id": "8cbd6a5d-9ae4-4cd8-b32f-2eca46819afe",
   "metadata": {
    "tags": []
   },
   "outputs": [],
   "source": [
    "phase1 = f'{wdir}/PN_spectrum_grp_673310879.9999998_32-36_40-44.fits'\n",
    "phase2 = f'{wdir}/PN_spectrum_grp_673367039.9999999_32-36_40-44.fits'\n",
    "phase3 = f'{wdir}/PN_spectrum_grp_673382591.9999999_32-36_40-44.fits'"
   ]
  },
  {
   "cell_type": "markdown",
   "id": "55acd74b-f222-4a5b-87b6-f6f2ca0b44f7",
   "metadata": {},
   "source": [
    "Now we can visualise them using pyxspec."
   ]
  },
  {
   "cell_type": "code",
   "execution_count": null,
   "id": "32b1e1f0-fd73-43c8-bb4a-8c2a7d685b82",
   "metadata": {
    "tags": []
   },
   "outputs": [],
   "source": [
    "# Before you start, clear all data and models\n",
    "\n",
    "AllModels.clear()  # Clear all models\n",
    "AllData.clear()    # Clear all data"
   ]
  },
  {
   "cell_type": "code",
   "execution_count": null,
   "id": "063e5cbe-e6dc-47c0-a2dc-ddab2f87a7c2",
   "metadata": {
    "tags": []
   },
   "outputs": [],
   "source": [
    "# Load the group spectral file\n",
    "\n",
    "# The group file already contains in the header the names of all the necessary files needed by xspec\n",
    "# (source and background spectra, response and ancillery files)\n",
    "\n",
    "data1 = Spectrum(phase1)  # load spectra groupped file\n",
    "data2 = Spectrum(phase2)\n",
    "data3 = Spectrum(phase3)\n",
    "\n",
    "AllData.show()                # inspect loaded data"
   ]
  },
  {
   "cell_type": "markdown",
   "id": "a8d9cf7d-179b-4297-8510-c4d61cbbaf44",
   "metadata": {},
   "source": [
    "For swift visualisation, we can use the the custom made Python function available in the file xspecplot.py. It will require a list of the spectrum data given to xspec only, the rest can be changed if customisation is required by the user:\n",
    "```\n",
    "xspecplot(data, xAxis=\"keV\", xLog=True, yLog=True, figname=\"multiple-spectra.png\")\n",
    "```"
   ]
  },
  {
   "cell_type": "code",
   "execution_count": null,
   "id": "c78e8236-54cb-4a33-86d5-bfce6a12f6ab",
   "metadata": {
    "tags": []
   },
   "outputs": [],
   "source": [
    "xspecplot([data1, data2, data3], xAxis=\"keV\", xLog=True, yLog=True)"
   ]
  },
  {
   "cell_type": "markdown",
   "id": "eba592e7-54ba-42d3-8d98-e87ba08a341a",
   "metadata": {},
   "source": [
    "* ### Energy-resolved light curves"
   ]
  },
  {
   "cell_type": "markdown",
   "id": "4dc110fc-a05b-4a5e-8996-92c3f4106ef5",
   "metadata": {},
   "source": [
    "At the spectra produced above, 4 energy bands of interest have been marked with the vertical red dashed line:\n",
    "* 0.5-3.0 keV\n",
    "* 3.0-6.0 keV\n",
    "* 6.0-8.0 keV\n",
    "* 8.0-10.0 keV\n",
    "\n",
    "We can extract light curves for the each band of interest for further analysis of variability in photon count rates. Instead of running all the tasks one by one as in the previous section named `Extracting Average Light Curve`, we have written a Python script to automatise the process and run it for our selected ranges. The script is present underthe name `energy-resolvedLC.py`, which we run below: "
   ]
  },
  {
   "cell_type": "code",
   "execution_count": null,
   "id": "f414a72b-77bc-4e6d-89fc-8b66725e0088",
   "metadata": {
    "tags": []
   },
   "outputs": [],
   "source": [
    "os.system(f\"python3 {notebook_dir}/scripts/energy-resolvedLC.py\")"
   ]
  },
  {
   "cell_type": "markdown",
   "id": "efaccc4b-1bda-414e-8033-e9b600a41278",
   "metadata": {},
   "source": [
    "After the script has finished we have out corrected light curves printed out, we have written them below:"
   ]
  },
  {
   "cell_type": "code",
   "execution_count": null,
   "id": "866f9621-fb2c-43ef-a514-44e0d92a75a5",
   "metadata": {
    "tags": []
   },
   "outputs": [],
   "source": [
    "band1 = f'{wdir}/PN_lccorr_500to3000eV_bin283sec.lc'\n",
    "band2 = f'{wdir}/PN_lccorr_3000to6000eV_bin283sec.lc'\n",
    "band3 = f'{wdir}/PN_lccorr_6000to8000eV_bin283sec.lc'\n",
    "band4 = f'{wdir}/PN_lccorr_8000to10000eV_bin283sec.lc'"
   ]
  },
  {
   "cell_type": "markdown",
   "id": "da8526a4-48e9-4330-998f-6b017f1553c7",
   "metadata": {},
   "source": [
    "Now we can plot all the energy-resolved light curves."
   ]
  },
  {
   "cell_type": "code",
   "execution_count": null,
   "id": "59ef9c3f-40a8-4fa2-94e4-0fcc6e27ac75",
   "metadata": {
    "tags": []
   },
   "outputs": [],
   "source": [
    "# Inspect the light curves\n",
    "fileNames = [band1, band2, band3, band4]\n",
    "names = ['0.5-3.0 keV', '3.0-6.0 keV', '6.0-8.0 keV', '8.0-10.0 keV']\n",
    "\n",
    "plotVelaX1LC(fileNames, names, threshold=None, figname=\"energyresolved_lightcurves.png\", yLog=True, connect_points=False)"
   ]
  },
  {
   "cell_type": "markdown",
   "id": "bd56f736-6bdc-42b7-81b1-a073ba1364b6",
   "metadata": {},
   "source": [
    "* ### Pulse by pulse analysis"
   ]
  },
  {
   "cell_type": "markdown",
   "id": "984dfe73-2908-4fba-b9da-22aff3ded56c",
   "metadata": {},
   "source": [
    "If the user would like to explore further in depth analysis to observe variability it is possible to do a pulse-by-pulse analysis. We take the pulse of Vela X-1 to be $P= 283.44$ s in accordance with Diez et al. (2022). \n",
    "\n",
    "We can use the SAS task `tabgtigen` to select GTI files for each pulse period throughout the observation. Below we run a custom script written in Python which should create all the GTI files by running a loop."
   ]
  },
  {
   "cell_type": "code",
   "execution_count": null,
   "id": "5bbba52d-6fb0-407e-96b3-24ee06f31791",
   "metadata": {
    "tags": []
   },
   "outputs": [],
   "source": [
    "os.system(f\"python3 {notebook_dir}/scripts/gtiloop.py\")"
   ]
  },
  {
   "cell_type": "markdown",
   "id": "669042c2-7fca-4224-81ef-3fa74079cd57",
   "metadata": {},
   "source": [
    "Now we can produce spectra for the each GTI file for further analysis using the second custom python script, which will run a loop."
   ]
  },
  {
   "cell_type": "code",
   "execution_count": null,
   "id": "70e9b821-ab90-4936-b19d-eddd43f2f766",
   "metadata": {
    "tags": []
   },
   "outputs": [],
   "source": [
    "os.system(f\"python3 {notebook_dir}/scripts/loopgtispectra.py\")"
   ]
  },
  {
   "cell_type": "markdown",
   "id": "3089b7a0-4d97-48d6-8777-3352bb24d976",
   "metadata": {},
   "source": [
    "After this point it is up to the user to do further spectral analysis."
   ]
  },
  {
   "cell_type": "markdown",
   "id": "a66a6f9f-db03-4fe4-9d8d-72254afa279c",
   "metadata": {},
   "source": [
    "***\n",
    "### Conclusions\n",
    "\n",
    "Congrats!✨ \n",
    "\n",
    "By following this thread you have:\n",
    "\n",
    "* processed ODF files for the X-ray binary Vela X-1.\n",
    "* applied calibration in timing mode.\n",
    "* produced lightcurves of the source and the background.\n",
    "* checked and corrected for plie-up.\n",
    "* produced an average spectrum of the object and plotted it using pyXspec.\n",
    "* produced for different observation phases\n",
    "* produced a spectrum for each pulse period of the binary\n",
    "\n",
    "This shows how a further analysis can be done on an object observed by XMM-Newton in the XMM-Newton-SAS Datalab, where you can swiftly get your data and analyse it with all the major tools necessary available at your disposal. The further analysis and model fitting of the object can be advanced by the reader, by exploring the tools at disposal by pyXspec, for more information please refer to the [pyXspec information page](https://heasarc.gsfc.nasa.gov/xanadu/xspec/python/html/index.html)."
   ]
  }
 ],
 "metadata": {
  "kernelspec": {
   "display_name": "Python 3 (ipykernel)",
   "language": "python",
   "name": "python3"
  },
  "language_info": {
   "codemirror_mode": {
    "name": "ipython",
    "version": 3
   },
   "file_extension": ".py",
   "mimetype": "text/x-python",
   "name": "python",
   "nbconvert_exporter": "python",
   "pygments_lexer": "ipython3",
   "version": "3.12.2"
  }
 },
 "nbformat": 4,
 "nbformat_minor": 5
}
